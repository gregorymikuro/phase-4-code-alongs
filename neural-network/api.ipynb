{
 "cells": [
  {
   "cell_type": "code",
   "execution_count": null,
   "metadata": {},
   "outputs": [],
   "source": [
    "\"\"\"\n",
    "    1. Import Libraries\n",
    "        i. FASTAPI: Creating web APIS\n",
    "        ii. Uvicorn: ASGI server to tun the App\n",
    "        iii. Tensorflow: Loading trained Model\n",
    "        iv. Pandas and Numpy: Data Manipulation\n",
    "        v. Basemodel: Pydantica model for request validation\n",
    "\n",
    "    2. Creating Data Loader Class     \n",
    "\"\"\""
   ]
  },
  {
   "cell_type": "code",
   "execution_count": null,
   "metadata": {},
   "outputs": [],
   "source": []
  }
 ],
 "metadata": {
  "language_info": {
   "name": "python"
  }
 },
 "nbformat": 4,
 "nbformat_minor": 2
}
