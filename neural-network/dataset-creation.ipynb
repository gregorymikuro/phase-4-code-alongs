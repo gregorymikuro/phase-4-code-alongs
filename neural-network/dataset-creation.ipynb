{
 "cells": [
  {
   "cell_type": "code",
   "execution_count": 2,
   "metadata": {},
   "outputs": [],
   "source": [
    "import numpy as np\n",
    "import pandas as pd\n",
    "\n",
    "# Random seed reproducibility\n",
    "np.random.seed(8)\n",
    "\n",
    "# Number of samples for the dataset\n",
    "samples = 1000\n",
    "\n",
    "\"\"\"\n",
    "    DATA DESCRIPTION\n",
    "    ----------------\n",
    "    Features; x = size, bedrooms, age, bathrooms\n",
    "    Target; y = price  \n",
    "\"\"\"\n",
    "\n",
    "size = np.random.normal(1500, 500, samples) # size in square feet\n",
    "bedrooms = np.random.randint(1, 6, samples) # number of bedrooms\n",
    "age = np.random.randint(1, 50, samples) # the age of the house\n",
    "bathrooms = np.random.randint(1, 4, samples) # the number of bathrooms\n",
    "\n",
    "# Generate the target variable\n",
    "price = (size * 0.2 + bedrooms * 10 + age * -1.5 + bathrooms * 15) + np.random.normal(0, 50, samples)\n",
    "\n",
    "# Create a pandas DataFrame for the dataset\n",
    "\n",
    "data = pd.DataFrame({\n",
    "    'size': size,\n",
    "    'bedrooms': bedrooms,\n",
    "    'age': age,\n",
    "    'bathrooms': bathrooms,\n",
    "    'price': price\n",
    "})\n",
    "\n",
    "# save the dataframe as a csv \n",
    "data.to_csv('houses_prices.csv', index=False) \n"
   ]
  }
 ],
 "metadata": {
  "kernelspec": {
   "display_name": "base",
   "language": "python",
   "name": "python3"
  },
  "language_info": {
   "codemirror_mode": {
    "name": "ipython",
    "version": 3
   },
   "file_extension": ".py",
   "mimetype": "text/x-python",
   "name": "python",
   "nbconvert_exporter": "python",
   "pygments_lexer": "ipython3",
   "version": "3.11.7"
  }
 },
 "nbformat": 4,
 "nbformat_minor": 2
}
